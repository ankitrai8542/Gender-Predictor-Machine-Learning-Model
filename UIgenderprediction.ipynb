{
 "cells": [
  {
   "cell_type": "code",
   "execution_count": 1,
   "metadata": {},
   "outputs": [],
   "source": [
    "from sklearn.neighbors import KNeighborsClassifier\n",
    "import pandas as pd\n",
    "from tkinter import *\n",
    "from tkinter import messagebox as msg"
   ]
  },
  {
   "cell_type": "code",
   "execution_count": 2,
   "metadata": {},
   "outputs": [],
   "source": [
    "data=pd.read_csv('gender1.csv',names=['G','W','H'])"
   ]
  },
  {
   "cell_type": "code",
   "execution_count": 3,
   "metadata": {},
   "outputs": [],
   "source": [
    "x=data.iloc[:,1:3]"
   ]
  },
  {
   "cell_type": "code",
   "execution_count": 4,
   "metadata": {},
   "outputs": [],
   "source": [
    "y=data['G']"
   ]
  },
  {
   "cell_type": "code",
   "execution_count": 5,
   "metadata": {},
   "outputs": [],
   "source": [
    "from sklearn.model_selection import train_test_split"
   ]
  },
  {
   "cell_type": "code",
   "execution_count": 6,
   "metadata": {},
   "outputs": [],
   "source": [
    "x_train,x_test,y_train,y_test=train_test_split(x,y,test_size=.2,random_state=3)"
   ]
  },
  {
   "cell_type": "code",
   "execution_count": 7,
   "metadata": {},
   "outputs": [],
   "source": [
    "oknn=KNeighborsClassifier(n_neighbors=2)"
   ]
  },
  {
   "cell_type": "code",
   "execution_count": 8,
   "metadata": {},
   "outputs": [
    {
     "data": {
      "text/plain": [
       "KNeighborsClassifier(algorithm='auto', leaf_size=30, metric='minkowski',\n",
       "                     metric_params=None, n_jobs=None, n_neighbors=5, p=2,\n",
       "                     weights='uniform')"
      ]
     },
     "execution_count": 8,
     "metadata": {},
     "output_type": "execute_result"
    }
   ],
   "source": [
    "oknn.fit(x_train,y_train)"
   ]
  },
  {
   "cell_type": "code",
   "execution_count": 9,
   "metadata": {},
   "outputs": [],
   "source": [
    "pred=oknn.predict(x_test)"
   ]
  },
  {
   "cell_type": "code",
   "execution_count": 10,
   "metadata": {},
   "outputs": [
    {
     "name": "stdout",
     "output_type": "stream",
     "text": [
      "['Male']\n",
      "['Male']\n",
      "['Female']\n",
      "['Male']\n"
     ]
    }
   ],
   "source": [
    "class Test(Frame):\n",
    "    def __init__(self,master):\n",
    "        super().__init__(master)\n",
    "        self.l1=Label(self,text='Weight',bg='light gray',fg='red',font=('algerian',12))\n",
    "        self.l2=Label(self,text='Height',bg='light gray',fg='red',font=('algerian',12))\n",
    "        self.t1=Entry(self,bd=4,bg='light gray',fg='red',font=('algerian',12),justify='center')\n",
    "        self.t2=Entry(self,bd=4,bg='light gray',fg='red',font=('algerian',12),justify='center')\n",
    "        self.b1=Button(self,text='Predict',bg='light gray',fg='red',font=('algerian',12),justify='center',command=self.calc)\n",
    "        \n",
    "\n",
    "        self.rowconfigure(0,pad=10) #spac btw the row\n",
    "        self.rowconfigure(1,pad=10)\n",
    "        self.rowconfigure(2,pad=10)\n",
    "        \n",
    "        self.columnconfigure(0,pad=8)\n",
    "        self.columnconfigure(1,pad=8)\n",
    "        \n",
    "        self.l1.grid(row=0,column=0)\n",
    "        self.t1.grid(row=0,column=1)\n",
    "        self.l2.grid(row=1,column=0)\n",
    "        self.t2.grid(row=1,column=1)\n",
    "        self.b1.grid(columnspan=2)\n",
    "        self.pack() #created design will be showed\n",
    "    def calc(self):\n",
    "        i=(float)(self.t1.get())\n",
    "        j=(float)(self.t2.get())\n",
    "        test=[[i,j]]\n",
    "        testdata=pd.DataFrame(test)\n",
    "        p=oknn.predict(testdata)\n",
    "        print(p)\n",
    "        msg.showinfo('predicted output',p)\n",
    "     \n",
    "root=Tk()\n",
    "obj=Test(root)\n",
    "root.title('Male or Female')\n",
    "root.geometry('500x250')\n",
    "#root.state('zoomed')#for complete screen\n",
    "root.mainloop()\n",
    "\n",
    "               \n",
    "        \n",
    "        \n",
    "\n",
    "        \n",
    "\n",
    "\n",
    "        \n",
    "        \n",
    "\n",
    "        "
   ]
  },
  {
   "cell_type": "code",
   "execution_count": null,
   "metadata": {},
   "outputs": [],
   "source": []
  },
  {
   "cell_type": "code",
   "execution_count": null,
   "metadata": {},
   "outputs": [],
   "source": []
  },
  {
   "cell_type": "code",
   "execution_count": null,
   "metadata": {},
   "outputs": [],
   "source": []
  }
 ],
 "metadata": {
  "kernelspec": {
   "display_name": "Python 3",
   "language": "python",
   "name": "python3"
  },
  "language_info": {
   "codemirror_mode": {
    "name": "ipython",
    "version": 3
   },
   "file_extension": ".py",
   "mimetype": "text/x-python",
   "name": "python",
   "nbconvert_exporter": "python",
   "pygments_lexer": "ipython3",
   "version": "3.7.4"
  }
 },
 "nbformat": 4,
 "nbformat_minor": 2
}
